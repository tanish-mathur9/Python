{
 "cells": [
  {
   "cell_type": "code",
   "execution_count": null,
   "id": "0bbdfb4c-6cb2-4351-800c-75303d5e95df",
   "metadata": {},
   "outputs": [],
   "source": []
  }
 ],
 "metadata": {
  "kernelspec": {
   "display_name": "",
   "name": ""
  },
  "language_info": {
   "name": ""
  }
 },
 "nbformat": 4,
 "nbformat_minor": 5
}
