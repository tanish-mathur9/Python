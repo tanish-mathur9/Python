{
 "cells": [
  {
   "cell_type": "code",
   "execution_count": 2,
   "id": "0bbdfb4c-6cb2-4351-800c-75303d5e95df",
   "metadata": {},
   "outputs": [
    {
     "name": "stdout",
     "output_type": "stream",
     "text": [
      "tanish\n"
     ]
    }
   ],
   "source": [
    "print (\"tanish\")"
   ]
  },
  {
   "cell_type": "code",
   "execution_count": 3,
   "id": "e02381b2-ee6f-4bc4-8695-b65780eaa38e",
   "metadata": {},
   "outputs": [
    {
     "ename": "NameError",
     "evalue": "name 'dahfksd' is not defined",
     "output_type": "error",
     "traceback": [
      "\u001b[31m---------------------------------------------------------------------------\u001b[39m",
      "\u001b[31mNameError\u001b[39m                                 Traceback (most recent call last)",
      "\u001b[36mCell\u001b[39m\u001b[36m \u001b[39m\u001b[32mIn[3]\u001b[39m\u001b[32m, line 1\u001b[39m\n\u001b[32m----> \u001b[39m\u001b[32m1\u001b[39m \u001b[43mdahfksd\u001b[49m\n",
      "\u001b[31mNameError\u001b[39m: name 'dahfksd' is not defined"
     ]
    }
   ],
   "source": [
    "dahfksd"
   ]
  },
  {
   "cell_type": "code",
   "execution_count": 4,
   "id": "67502677-b47c-4f0e-82a2-133dd36105ab",
   "metadata": {},
   "outputs": [
    {
     "ename": "NameError",
     "evalue": "name 'asbf' is not defined",
     "output_type": "error",
     "traceback": [
      "\u001b[31m---------------------------------------------------------------------------\u001b[39m",
      "\u001b[31mNameError\u001b[39m                                 Traceback (most recent call last)",
      "\u001b[36mCell\u001b[39m\u001b[36m \u001b[39m\u001b[32mIn[4]\u001b[39m\u001b[32m, line 1\u001b[39m\n\u001b[32m----> \u001b[39m\u001b[32m1\u001b[39m \u001b[43masbf\u001b[49m\n",
      "\u001b[31mNameError\u001b[39m: name 'asbf' is not defined"
     ]
    }
   ],
   "source": [
    "asbf"
   ]
  },
  {
   "cell_type": "code",
   "execution_count": 5,
   "id": "ea3f0e34-2d75-4164-9cf0-9483caa8d275",
   "metadata": {},
   "outputs": [
    {
     "ename": "NameError",
     "evalue": "name 'ansj' is not defined",
     "output_type": "error",
     "traceback": [
      "\u001b[31m---------------------------------------------------------------------------\u001b[39m",
      "\u001b[31mNameError\u001b[39m                                 Traceback (most recent call last)",
      "\u001b[36mCell\u001b[39m\u001b[36m \u001b[39m\u001b[32mIn[5]\u001b[39m\u001b[32m, line 1\u001b[39m\n\u001b[32m----> \u001b[39m\u001b[32m1\u001b[39m \u001b[43mansj\u001b[49m\n",
      "\u001b[31mNameError\u001b[39m: name 'ansj' is not defined"
     ]
    }
   ],
   "source": [
    "ansj"
   ]
  },
  {
   "cell_type": "code",
   "execution_count": null,
   "id": "d34b6f0a-74c4-49e6-81f6-abee08fdd4df",
   "metadata": {},
   "outputs": [],
   "source": []
  }
 ],
 "metadata": {
  "kernelspec": {
   "display_name": "Python 3 (ipykernel)",
   "language": "python",
   "name": "python3"
  },
  "language_info": {
   "codemirror_mode": {
    "name": "ipython",
    "version": 3
   },
   "file_extension": ".py",
   "mimetype": "text/x-python",
   "name": "python",
   "nbconvert_exporter": "python",
   "pygments_lexer": "ipython3",
   "version": "3.13.3"
  }
 },
 "nbformat": 4,
 "nbformat_minor": 5
}
