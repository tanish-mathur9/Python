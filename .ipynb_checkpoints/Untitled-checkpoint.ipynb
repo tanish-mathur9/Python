{
 "cells": [
  {
   "cell_type": "code",
   "execution_count": 2,
   "id": "0bbdfb4c-6cb2-4351-800c-75303d5e95df",
   "metadata": {},
   "outputs": [
    {
     "name": "stdout",
     "output_type": "stream",
     "text": [
      "tanish\n"
     ]
    }
   ],
   "source": [
    "print (\"tanish\")"
   ]
  },
  {
   "cell_type": "code",
   "execution_count": null,
   "id": "e02381b2-ee6f-4bc4-8695-b65780eaa38e",
   "metadata": {},
   "outputs": [],
   "source": []
  }
 ],
 "metadata": {
  "kernelspec": {
   "display_name": "Python 3 (ipykernel)",
   "language": "python",
   "name": "python3"
  },
  "language_info": {
   "codemirror_mode": {
    "name": "ipython",
    "version": 3
   },
   "file_extension": ".py",
   "mimetype": "text/x-python",
   "name": "python",
   "nbconvert_exporter": "python",
   "pygments_lexer": "ipython3",
   "version": "3.13.3"
  }
 },
 "nbformat": 4,
 "nbformat_minor": 5
}
